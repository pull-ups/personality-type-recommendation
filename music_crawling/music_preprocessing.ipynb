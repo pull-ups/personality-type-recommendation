{
 "cells": [
  {
   "cell_type": "code",
   "execution_count": 61,
   "source": [
    "import numpy as np\r\n",
    "import pandas as pd\r\n",
    "import sys\r\n",
    "import re\r\n",
    "def isHangul(text):\r\n",
    "    #Check the Python Version\r\n",
    "    pyVer3 =  sys.version_info >= (3, 0)\r\n",
    "\r\n",
    "    if pyVer3 : # for Ver 3 or later\r\n",
    "        encText = text\r\n",
    "    else: # for Ver 2.x\r\n",
    "        if type(text) is not unicode:\r\n",
    "            encText = text.decode('utf-8')\r\n",
    "        else:\r\n",
    "            encText = text\r\n",
    "\r\n",
    "    hanCount = len(re.findall(u'[\\u3130-\\u318F\\uAC00-\\uD7A3]+', encText))\r\n",
    "    return hanCount > 0\r\n",
    "    \r\n",
    "music_df=pd.read_csv(\"music_list.csv\", names=['Theme', 'Title', 'Artist', 'Album', 'Lyric'],encoding=\"cp949\")\r\n",
    "\r\n",
    "music_df.drop_duplicates(['Title'], inplace=True)\r\n",
    "music_df.dropna(axis=0, inplace=True)\r\n",
    "music_df.reset_index(inplace=True)\r\n",
    "music_df.drop(['index'], axis=1, inplace=True)\r\n",
    "\r\n",
    "\r\n",
    "pop_list=[]\r\n",
    "for i in range(music_df.shape[0]):\r\n",
    "  text=music_df['Lyric'][i]\r\n",
    "  if not isHangul(text):\r\n",
    "    pop_list.append(i)\r\n",
    "\r\n",
    "\r\n",
    "music_df.drop(pop_list, axis=0, inplace=True)\r\n",
    "music_df.reset_index(inplace=True)\r\n",
    "music_df.drop(['index'], axis=1, inplace=True)\r\n",
    "\r\n",
    "music_df.to_csv(\"music_list_preproessed.csv\")"
   ],
   "outputs": [],
   "metadata": {}
  },
  {
   "cell_type": "code",
   "execution_count": 45,
   "source": [],
   "outputs": [],
   "metadata": {}
  },
  {
   "cell_type": "code",
   "execution_count": 57,
   "source": [
    "music_df.shape[0]"
   ],
   "outputs": [
    {
     "output_type": "execute_result",
     "data": {
      "text/plain": [
       "4171"
      ]
     },
     "metadata": {},
     "execution_count": 57
    }
   ],
   "metadata": {}
  },
  {
   "cell_type": "code",
   "execution_count": 48,
   "source": [],
   "outputs": [],
   "metadata": {}
  },
  {
   "cell_type": "code",
   "execution_count": 52,
   "source": [],
   "outputs": [],
   "metadata": {}
  },
  {
   "cell_type": "code",
   "execution_count": 58,
   "source": [],
   "outputs": [],
   "metadata": {}
  },
  {
   "cell_type": "code",
   "execution_count": 59,
   "source": [
    "music_df"
   ],
   "outputs": [
    {
     "output_type": "execute_result",
     "data": {
      "text/plain": [
       "      Theme                          Title                       Artist  \\\n",
       "0       신나는           냉면 (박명수  제시카  이트라이브)                       명카드라이브   \n",
       "1       신나는                      다시 여기 바닷가          싹쓰리 (유두래곤  린다G  비룡)   \n",
       "2       신나는                  산막이옛길을 달리는 소녀              위키미키(Weki Meki)   \n",
       "3       신나는          치맛바람 (Chi Mat Ba Ram)          브레이브걸스(Brave Girls)   \n",
       "4        강한                          상상더하기                   라붐(LABOUM)   \n",
       "...     ...                            ...                          ...   \n",
       "2575  사랑/기쁨                 사랑(Remastered)  빅 베이비 드라이버(Big Baby Driver)   \n",
       "2576   혼술혼밥           너만 들음 돼 (Feat. 스텔라장)                          이승환   \n",
       "2577   혼술혼밥  Sing Your Song (Motown Lover)  브라운 아이드 소울(Brown Eyed Soul)   \n",
       "2578  사랑/기쁨              사랑에 빠질 수 밖에 없는 얼굴  페이퍼컷 프로젝트(Papercut Project)   \n",
       "2579   혼술혼밥                       나만 알고 싶다                    소란(SORAN)   \n",
       "\n",
       "                 Album                                              Lyric  \n",
       "0     무한도전 올림픽대로 듀엣가요제  차가워 너무나 속 시려 너무나.이빨이 너무 시려 냉면 냉면 냉면.가슴이 너무 시려 ...  \n",
       "1            다시 여기 바닷가  예아 호우 예예예.싹쓰리 인더 하우스.커커커커커몬 싹 쓰리 투 렛츠고.나 다시 또 ...  \n",
       "2        산막이옛길을 달리는 소녀  Oh oh yeah (Hey).Gonna feel so good 함께 가 우리.매일...  \n",
       "3         Summer Queen  You know what it is.B girls are back Brave Sou...  \n",
       "4      Fresh Adventure  1  2 Come On R U Ready.3  4 Do It I'm Ready .5...  \n",
       "...                ...                                                ...  \n",
       "2575                사랑  내 마음에 내 마음에.언제나 있는 미움 같은.새벽녘에 한 모금 눈물.기억나지 않는 ...  \n",
       "2576     FALL TO FLY 後  이 노래는 너만 들음 돼.내 진짜 속을 너만 알면 돼.네가 따르는 신보다.내가 우선...  \n",
       "2577    It' Soul Right  난 노랠 불러 햇살에.맘이 너무 설레는 날에.내 입술에 자꾸 나오는 사랑스런 그 이...  \n",
       "2578             불공정연애  화려한 화장은 안해도 오똑한 콧날은 아니어도 .잊을만 하면 또 생각나 마치 남겨둔 ...  \n",
       "2579              CAKE  요즘 들어 벌써 몇 번.네 얘기를 들어.예쁘고 사람 참 괜찮다고..그건 누구보다 내...  \n",
       "\n",
       "[2580 rows x 5 columns]"
      ],
      "text/html": [
       "<div>\n",
       "<style scoped>\n",
       "    .dataframe tbody tr th:only-of-type {\n",
       "        vertical-align: middle;\n",
       "    }\n",
       "\n",
       "    .dataframe tbody tr th {\n",
       "        vertical-align: top;\n",
       "    }\n",
       "\n",
       "    .dataframe thead th {\n",
       "        text-align: right;\n",
       "    }\n",
       "</style>\n",
       "<table border=\"1\" class=\"dataframe\">\n",
       "  <thead>\n",
       "    <tr style=\"text-align: right;\">\n",
       "      <th></th>\n",
       "      <th>Theme</th>\n",
       "      <th>Title</th>\n",
       "      <th>Artist</th>\n",
       "      <th>Album</th>\n",
       "      <th>Lyric</th>\n",
       "    </tr>\n",
       "  </thead>\n",
       "  <tbody>\n",
       "    <tr>\n",
       "      <th>0</th>\n",
       "      <td>신나는</td>\n",
       "      <td>냉면 (박명수  제시카  이트라이브)</td>\n",
       "      <td>명카드라이브</td>\n",
       "      <td>무한도전 올림픽대로 듀엣가요제</td>\n",
       "      <td>차가워 너무나 속 시려 너무나.이빨이 너무 시려 냉면 냉면 냉면.가슴이 너무 시려 ...</td>\n",
       "    </tr>\n",
       "    <tr>\n",
       "      <th>1</th>\n",
       "      <td>신나는</td>\n",
       "      <td>다시 여기 바닷가</td>\n",
       "      <td>싹쓰리 (유두래곤  린다G  비룡)</td>\n",
       "      <td>다시 여기 바닷가</td>\n",
       "      <td>예아 호우 예예예.싹쓰리 인더 하우스.커커커커커몬 싹 쓰리 투 렛츠고.나 다시 또 ...</td>\n",
       "    </tr>\n",
       "    <tr>\n",
       "      <th>2</th>\n",
       "      <td>신나는</td>\n",
       "      <td>산막이옛길을 달리는 소녀</td>\n",
       "      <td>위키미키(Weki Meki)</td>\n",
       "      <td>산막이옛길을 달리는 소녀</td>\n",
       "      <td>Oh oh yeah (Hey).Gonna feel so good 함께 가 우리.매일...</td>\n",
       "    </tr>\n",
       "    <tr>\n",
       "      <th>3</th>\n",
       "      <td>신나는</td>\n",
       "      <td>치맛바람 (Chi Mat Ba Ram)</td>\n",
       "      <td>브레이브걸스(Brave Girls)</td>\n",
       "      <td>Summer Queen</td>\n",
       "      <td>You know what it is.B girls are back Brave Sou...</td>\n",
       "    </tr>\n",
       "    <tr>\n",
       "      <th>4</th>\n",
       "      <td>강한</td>\n",
       "      <td>상상더하기</td>\n",
       "      <td>라붐(LABOUM)</td>\n",
       "      <td>Fresh Adventure</td>\n",
       "      <td>1  2 Come On R U Ready.3  4 Do It I'm Ready .5...</td>\n",
       "    </tr>\n",
       "    <tr>\n",
       "      <th>...</th>\n",
       "      <td>...</td>\n",
       "      <td>...</td>\n",
       "      <td>...</td>\n",
       "      <td>...</td>\n",
       "      <td>...</td>\n",
       "    </tr>\n",
       "    <tr>\n",
       "      <th>2575</th>\n",
       "      <td>사랑/기쁨</td>\n",
       "      <td>사랑(Remastered)</td>\n",
       "      <td>빅 베이비 드라이버(Big Baby Driver)</td>\n",
       "      <td>사랑</td>\n",
       "      <td>내 마음에 내 마음에.언제나 있는 미움 같은.새벽녘에 한 모금 눈물.기억나지 않는 ...</td>\n",
       "    </tr>\n",
       "    <tr>\n",
       "      <th>2576</th>\n",
       "      <td>혼술혼밥</td>\n",
       "      <td>너만 들음 돼 (Feat. 스텔라장)</td>\n",
       "      <td>이승환</td>\n",
       "      <td>FALL TO FLY 後</td>\n",
       "      <td>이 노래는 너만 들음 돼.내 진짜 속을 너만 알면 돼.네가 따르는 신보다.내가 우선...</td>\n",
       "    </tr>\n",
       "    <tr>\n",
       "      <th>2577</th>\n",
       "      <td>혼술혼밥</td>\n",
       "      <td>Sing Your Song (Motown Lover)</td>\n",
       "      <td>브라운 아이드 소울(Brown Eyed Soul)</td>\n",
       "      <td>It' Soul Right</td>\n",
       "      <td>난 노랠 불러 햇살에.맘이 너무 설레는 날에.내 입술에 자꾸 나오는 사랑스런 그 이...</td>\n",
       "    </tr>\n",
       "    <tr>\n",
       "      <th>2578</th>\n",
       "      <td>사랑/기쁨</td>\n",
       "      <td>사랑에 빠질 수 밖에 없는 얼굴</td>\n",
       "      <td>페이퍼컷 프로젝트(Papercut Project)</td>\n",
       "      <td>불공정연애</td>\n",
       "      <td>화려한 화장은 안해도 오똑한 콧날은 아니어도 .잊을만 하면 또 생각나 마치 남겨둔 ...</td>\n",
       "    </tr>\n",
       "    <tr>\n",
       "      <th>2579</th>\n",
       "      <td>혼술혼밥</td>\n",
       "      <td>나만 알고 싶다</td>\n",
       "      <td>소란(SORAN)</td>\n",
       "      <td>CAKE</td>\n",
       "      <td>요즘 들어 벌써 몇 번.네 얘기를 들어.예쁘고 사람 참 괜찮다고..그건 누구보다 내...</td>\n",
       "    </tr>\n",
       "  </tbody>\n",
       "</table>\n",
       "<p>2580 rows × 5 columns</p>\n",
       "</div>"
      ]
     },
     "metadata": {},
     "execution_count": 59
    }
   ],
   "metadata": {}
  },
  {
   "cell_type": "code",
   "execution_count": 56,
   "source": [],
   "outputs": [
    {
     "output_type": "execute_result",
     "data": {
      "text/plain": [
       "1591"
      ]
     },
     "metadata": {},
     "execution_count": 56
    }
   ],
   "metadata": {}
  },
  {
   "cell_type": "code",
   "execution_count": 51,
   "source": [],
   "outputs": [
    {
     "output_type": "execute_result",
     "data": {
      "text/plain": [
       "1591"
      ]
     },
     "metadata": {},
     "execution_count": 51
    }
   ],
   "metadata": {}
  },
  {
   "cell_type": "code",
   "execution_count": 42,
   "source": [
    "text='aa1ㄱ'\r\n",
    "isHangul(text)"
   ],
   "outputs": [
    {
     "output_type": "execute_result",
     "data": {
      "text/plain": [
       "True"
      ]
     },
     "metadata": {},
     "execution_count": 42
    }
   ],
   "metadata": {}
  },
  {
   "cell_type": "code",
   "execution_count": 38,
   "source": [
    "text=music_df['Lyric'][3]\r\n",
    "text"
   ],
   "outputs": [
    {
     "output_type": "execute_result",
     "data": {
      "text/plain": [
       "\"If I'm gonna break down.I'ma break down pretty.Yeah I love myself but I hate this city.Oh why?.I'm running out of crazy.Are you entertained yet?.Drown myself in champagne tears.Yeah I know too much at 19 years.They took my soul as a souvenir.But the show goes on.Beach blonde hair on the bathroom floor.'Cause I don't wanna be her no more.But they keep banging on the hotel door.So the show goes on.If I'm gonna break down.I'ma break down pretty.Yeah I love myself but I hate this city.Oh why?.I'm running out of crazy.Are you entertained yet?.If I'm gonna break down.I'ma break down pretty.All eyes on me like I'm 07 britney.Oh why?.I'm running out of crazy.Are you entertained yet?.Take what's left of my confidence.And I hold it high even though I'm spent.And surrounded by people building me up.10 000 feet just to watch me fall off.You're damned if you do.You're damned if you don't.You're damned if you will.You're damned if you won't.But the show goes on.If I'm gonna break down.I'ma break down pretty.Yeah I love myself but I hate this city.Oh why?.I'm running out of crazy.Are you entertained yet?.If I'm gonna break down.I'ma break down pretty.All eyes on me like I'm 07 britney.Oh why?.I'm running out of crazy.Are you entertained yet?.If I'm gonna break down.I'ma break down pretty.Make the Hall of Shame.Are you coming with me?.Oh why?.I'm running out of crazy.Are you entertained yet?.If I'm gonna break down.I'ma break down pretty.Yeah I love myself but I hate this city.Oh why?.I'm running out of crazy.Are you entertained yet?.If I'm gonna break down.I'ma break down pretty.All eyes on me like I'm 07 britney.Oh why?.I'm running out of crazy.Are you entertained yet?.The show goes on\""
      ]
     },
     "metadata": {},
     "execution_count": 38
    }
   ],
   "metadata": {}
  },
  {
   "cell_type": "code",
   "execution_count": null,
   "source": [],
   "outputs": [],
   "metadata": {}
  }
 ],
 "metadata": {
  "orig_nbformat": 4,
  "language_info": {
   "name": "python",
   "version": "3.7.10",
   "mimetype": "text/x-python",
   "codemirror_mode": {
    "name": "ipython",
    "version": 3
   },
   "pygments_lexer": "ipython3",
   "nbconvert_exporter": "python",
   "file_extension": ".py"
  },
  "kernelspec": {
   "name": "python3",
   "display_name": "Python 3.7.10 64-bit ('welloAPI': conda)"
  },
  "interpreter": {
   "hash": "28b979620e042a2b6fe3c6fb24f0e3c8f35045ea35e4fe21161c81a21c6977d9"
  }
 },
 "nbformat": 4,
 "nbformat_minor": 2
}