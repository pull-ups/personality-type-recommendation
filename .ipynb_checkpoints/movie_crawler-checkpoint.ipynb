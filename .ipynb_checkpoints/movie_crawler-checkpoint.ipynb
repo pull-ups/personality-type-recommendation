{
 "cells": [
  {
   "cell_type": "code",
   "execution_count": 1,
   "id": "7cfff17a",
   "metadata": {},
   "outputs": [],
   "source": [
    "import re\n",
    "import os\n",
    "from random import randrange\n",
    "\n",
    "import requests\n",
    "from bs4 import BeautifulSoup\n",
    "import openpyxl\n",
    "import urllib"
   ]
  },
  {
   "cell_type": "code",
   "execution_count": 2,
   "id": "16f949dd",
   "metadata": {},
   "outputs": [],
   "source": [
    "import time"
   ]
  },
  {
   "cell_type": "code",
   "execution_count": 3,
   "id": "c8626d35",
   "metadata": {},
   "outputs": [],
   "source": [
    "import pandas as pd"
   ]
  },
  {
   "cell_type": "markdown",
   "id": "cbf42c84",
   "metadata": {},
   "source": [
    "### 영화 랭킹 >  랭킹 >  전체 > 평점순\n",
    "#### 연도, 영화제목, 네티즌 평점, 개요, 줄거리, 이미지"
   ]
  },
  {
   "cell_type": "markdown",
   "id": "16b5b121",
   "metadata": {},
   "source": [
    "### URL 정보"
   ]
  },
  {
   "cell_type": "code",
   "execution_count": 4,
   "id": "54e0090f",
   "metadata": {},
   "outputs": [],
   "source": [
    "date = '20210712'\n",
    "RANKING_URL = 'https://movie.naver.com/movie/sdb/rank/rmovie.nhn?sel=pnt&date=' + date + '&page='    # 랭킹 URL\n",
    "MAIN_URL = \"https://movie.naver.com/movie/bi/mi/basic.nhn?code=\"                                     # 영화의 주요정보 URL\n",
    "IMG_URL = \"https://movie.naver.com/movie/bi/mi/photoViewPopup.nhn?movieCode=\"                        # 영화의 이미지 URL\n",
    "ACTOR_URL = \"https://movie.naver.com/movie/bi/mi/detail.nhn?code=\"                                   # 영화의 배우정보 URL"
   ]
  },
  {
   "cell_type": "code",
   "execution_count": 5,
   "id": "463ba888",
   "metadata": {},
   "outputs": [],
   "source": [
    "movie_id_list = []"
   ]
  },
  {
   "cell_type": "code",
   "execution_count": 6,
   "id": "96fe14d7",
   "metadata": {},
   "outputs": [],
   "source": [
    "def get_movie_id(page):\n",
    "    for i in range(1, int(page) + 1):\n",
    "        req = requests.get(RANKING_URL + str(i))\n",
    "        if req.status_code == 200:\n",
    "            html = req.text\n",
    "            soup = BeautifulSoup(html, 'html.parser')\n",
    "\n",
    "            movies = soup.find_all('a', {'href': True, 'title': True, 'onclick': False, 'class': False, 'target': False})\n",
    "            for movie in movies[1:]:\n",
    "                movie_id_list.append(re.search('[\\d]{1,}', movie['href']).group())"
   ]
  },
  {
   "cell_type": "code",
   "execution_count": 7,
   "id": "0894a4ed",
   "metadata": {},
   "outputs": [],
   "source": [
    "get_movie_id(20)"
   ]
  },
  {
   "cell_type": "code",
   "execution_count": 8,
   "id": "59d0d63e",
   "metadata": {},
   "outputs": [],
   "source": [
    "def get_contents(movie_id):\n",
    "    '''\n",
    "    :param movie_id: 영화 고유 아이디(문자열)\n",
    "    :return: 영화 제목, 개봉일, 줄거리 등의 정보(리스트)\n",
    "    '''\n",
    "    time.sleep(0.01)\n",
    "\n",
    "    # 1. main_link (= 영화 주요 정보 주소)\n",
    "    main_link = MAIN_URL + movie_id\n",
    "    '''\n",
    "    # 2. img_link(= 영화 이미지 주소)\n",
    "    img_link = IMG_URL + movie_id\n",
    "    '''\n",
    "\n",
    "    req = requests.get(main_link)\n",
    "    if req.status_code == 200:\n",
    "        html = req.text\n",
    "        soup = BeautifulSoup(html, 'html.parser')\n",
    "\n",
    "        # 3. title\n",
    "        try:\n",
    "            title = soup.find('h3', {'class': 'h_movie'}).find('a', {'href': True}).text\n",
    "            title = re.sub('[^0-9a-zA-Z가-힣,/. ]', '', title)\n",
    "        except:\n",
    "        \t# 성인 인증 영화는 title을 제대로 못가져온다. (로그인을 안했기 때문)\n",
    "            return [''] * 11\n",
    "\n",
    "        # 4. user_rating\n",
    "        try:\n",
    "            user_rating = soup.find('a', {'id': 'pointNetizenPersentBasic'}).text\n",
    "        except:\n",
    "            user_rating = ''\n",
    "\n",
    "\n",
    "        # 5.장르, 6.국가, 7.개봉년도 구하기\n",
    "        try:\n",
    "            info_spec = soup.find('dl', {'class': 'info_spec'})\n",
    "            genre = []\n",
    "            nation = []\n",
    "            pub_year = \"\"\n",
    "            for info in info_spec.find_all('a', {'href': True}):\n",
    "                if 'genre' in info['href']:\n",
    "                    genre.append(info.text)\n",
    "                elif 'nation' in info['href']:\n",
    "                    nation.append(info.text)\n",
    "                elif 'open' in info['href']:\n",
    "                    pub_year = info.text\n",
    "                    break\n",
    "\n",
    "            genre = ','.join(genre)\n",
    "            nation = ','.join(nation)\n",
    "            pub_year = pub_year.strip()\n",
    "        except:\n",
    "            genre = ''\n",
    "            nation = ''\n",
    "            pub_year = ''\n",
    "\n",
    "        # 8. 줄거리\n",
    "        try:\n",
    "            summary = soup.find('div', {'class': 'story_area'}).find('p', {'class': 'con_tx'})\n",
    "            summary = re.sub('[^\\da-zA-Z가-힣/. ]', '', summary.text).strip()\n",
    "        except:\n",
    "            summary = ''\n",
    "    \n",
    "    '''\n",
    "        # 9. 이미지\n",
    "    req2 = requests.get(img_link)\n",
    "    if req2.status_code == 200:\n",
    "        html2 = req2.text\n",
    "        soup2 = BeautifulSoup(html2, 'html.parser')\n",
    "        time.sleep(0.01)\n",
    "        \n",
    "        try:\n",
    "            img_src_ = soup2.find('img', {'id': 'targetImage'})\n",
    "            img_src = img_src_['src']\n",
    "            img_dir = './img/'\n",
    "            img_name = str(movie_id)\n",
    "            img_path = img_dir + img_name + '.jpg'\n",
    "            with urllib.request.urlopen(img_src) as f:\n",
    "                with open(img_path, 'wb') as h:\n",
    "                    img = f.read()\n",
    "                    h.write(img)\n",
    "        except:\n",
    "            img_path = ''\n",
    "        '''\n",
    "\n",
    "    # 영화 id, 제목, link, 이미지link, 개봉일, 네티즌평점, 줄거리, 국가, 장르\n",
    "    return [movie_id, title, main_link, img_link,  pub_year, user_rating, summary, nation, genre]"
   ]
  },
  {
   "cell_type": "code",
   "execution_count": null,
   "id": "772db290",
   "metadata": {},
   "outputs": [],
   "source": [
    "data = list(map(get_contents, movie_id_list))"
   ]
  },
  {
   "cell_type": "code",
   "execution_count": null,
   "id": "d84bf3bd",
   "metadata": {},
   "outputs": [],
   "source": [
    "columns = ['movie_id', 'title', 'main_link', 'img_link', 'img_path', 'pub_year', 'user_rating', 'summary', 'nation', 'genre']"
   ]
  },
  {
   "cell_type": "code",
   "execution_count": null,
   "id": "07bc6f71",
   "metadata": {},
   "outputs": [],
   "source": [
    "df1 = pd.DataFrame(data, columns = columns)"
   ]
  },
  {
   "cell_type": "code",
   "execution_count": 15,
   "id": "c4f0206f",
   "metadata": {},
   "outputs": [
    {
     "data": {
      "text/html": [
       "<div>\n",
       "<style scoped>\n",
       "    .dataframe tbody tr th:only-of-type {\n",
       "        vertical-align: middle;\n",
       "    }\n",
       "\n",
       "    .dataframe tbody tr th {\n",
       "        vertical-align: top;\n",
       "    }\n",
       "\n",
       "    .dataframe thead th {\n",
       "        text-align: right;\n",
       "    }\n",
       "</style>\n",
       "<table border=\"1\" class=\"dataframe\">\n",
       "  <thead>\n",
       "    <tr style=\"text-align: right;\">\n",
       "      <th></th>\n",
       "      <th>movie_id</th>\n",
       "      <th>title</th>\n",
       "      <th>main_link</th>\n",
       "      <th>img_link</th>\n",
       "      <th>img_path</th>\n",
       "      <th>pub_year</th>\n",
       "      <th>user_rating</th>\n",
       "      <th>summary</th>\n",
       "      <th>nation</th>\n",
       "      <th>genre</th>\n",
       "    </tr>\n",
       "  </thead>\n",
       "  <tbody>\n",
       "    <tr>\n",
       "      <th>0</th>\n",
       "      <td>171539</td>\n",
       "      <td>그린 북</td>\n",
       "      <td>https://movie.naver.com/movie/bi/mi/basic.nhn?...</td>\n",
       "      <td>https://movie.naver.com/movie/bi/mi/photoViewP...</td>\n",
       "      <td></td>\n",
       "      <td>2019</td>\n",
       "      <td>9.59</td>\n",
       "      <td>1962년 미국 입담과 주먹만 믿고 살아가던 토니 발레롱가비고 모텐슨는 교양과 우아...</td>\n",
       "      <td>미국</td>\n",
       "      <td>드라마</td>\n",
       "    </tr>\n",
       "    <tr>\n",
       "      <th>1</th>\n",
       "      <td>174830</td>\n",
       "      <td>가버나움</td>\n",
       "      <td>https://movie.naver.com/movie/bi/mi/basic.nhn?...</td>\n",
       "      <td>https://movie.naver.com/movie/bi/mi/photoViewP...</td>\n",
       "      <td></td>\n",
       "      <td>2019</td>\n",
       "      <td>9.59</td>\n",
       "      <td>나를 세상에 태어나게 한 부모님을 고소하고 싶어요...출생기록조차 없이 살아온 어쩌...</td>\n",
       "      <td>레바논,프랑스</td>\n",
       "      <td>드라마</td>\n",
       "    </tr>\n",
       "    <tr>\n",
       "      <th>2</th>\n",
       "      <td>192613</td>\n",
       "      <td>디지몬 어드벤처 라스트 에볼루션  인연</td>\n",
       "      <td>https://movie.naver.com/movie/bi/mi/basic.nhn?...</td>\n",
       "      <td>https://movie.naver.com/movie/bi/mi/photoViewP...</td>\n",
       "      <td></td>\n",
       "      <td>2021</td>\n",
       "      <td>9.54</td>\n",
       "      <td>컴퓨터 모니터를 통해 세상 밖으로 나온 의문의 알.타이치와 히카리 남매 앞에 디지몬...</td>\n",
       "      <td>일본</td>\n",
       "      <td>애니메이션,모험</td>\n",
       "    </tr>\n",
       "    <tr>\n",
       "      <th>3</th>\n",
       "      <td>144906</td>\n",
       "      <td>베일리 어게인</td>\n",
       "      <td>https://movie.naver.com/movie/bi/mi/basic.nhn?...</td>\n",
       "      <td>https://movie.naver.com/movie/bi/mi/photoViewP...</td>\n",
       "      <td></td>\n",
       "      <td>2018</td>\n",
       "      <td>9.52</td>\n",
       "      <td>귀여운 소년 이든의 단짝 반려견 베일리는 행복한 생을 마감한다.하지만 눈을 떠보니 ...</td>\n",
       "      <td>미국</td>\n",
       "      <td>모험,코미디,드라마</td>\n",
       "    </tr>\n",
       "    <tr>\n",
       "      <th>4</th>\n",
       "      <td>151196</td>\n",
       "      <td>원더</td>\n",
       "      <td>https://movie.naver.com/movie/bi/mi/basic.nhn?...</td>\n",
       "      <td>https://movie.naver.com/movie/bi/mi/photoViewP...</td>\n",
       "      <td></td>\n",
       "      <td>2021</td>\n",
       "      <td>9.52</td>\n",
       "      <td>누구보다 위트 있고 호기심 많은 매력 부자 어기제이콥 트렘블레이.하지만 남들과 다른...</td>\n",
       "      <td>미국</td>\n",
       "      <td>드라마</td>\n",
       "    </tr>\n",
       "  </tbody>\n",
       "</table>\n",
       "</div>"
      ],
      "text/plain": [
       "  movie_id                  title  \\\n",
       "0   171539                   그린 북   \n",
       "1   174830                   가버나움   \n",
       "2   192613  디지몬 어드벤처 라스트 에볼루션  인연   \n",
       "3   144906                베일리 어게인   \n",
       "4   151196                     원더   \n",
       "\n",
       "                                           main_link  \\\n",
       "0  https://movie.naver.com/movie/bi/mi/basic.nhn?...   \n",
       "1  https://movie.naver.com/movie/bi/mi/basic.nhn?...   \n",
       "2  https://movie.naver.com/movie/bi/mi/basic.nhn?...   \n",
       "3  https://movie.naver.com/movie/bi/mi/basic.nhn?...   \n",
       "4  https://movie.naver.com/movie/bi/mi/basic.nhn?...   \n",
       "\n",
       "                                            img_link img_path pub_year  \\\n",
       "0  https://movie.naver.com/movie/bi/mi/photoViewP...              2019   \n",
       "1  https://movie.naver.com/movie/bi/mi/photoViewP...              2019   \n",
       "2  https://movie.naver.com/movie/bi/mi/photoViewP...              2021   \n",
       "3  https://movie.naver.com/movie/bi/mi/photoViewP...              2018   \n",
       "4  https://movie.naver.com/movie/bi/mi/photoViewP...              2021   \n",
       "\n",
       "  user_rating                                            summary   nation  \\\n",
       "0        9.59  1962년 미국 입담과 주먹만 믿고 살아가던 토니 발레롱가비고 모텐슨는 교양과 우아...       미국   \n",
       "1        9.59  나를 세상에 태어나게 한 부모님을 고소하고 싶어요...출생기록조차 없이 살아온 어쩌...  레바논,프랑스   \n",
       "2        9.54  컴퓨터 모니터를 통해 세상 밖으로 나온 의문의 알.타이치와 히카리 남매 앞에 디지몬...       일본   \n",
       "3        9.52  귀여운 소년 이든의 단짝 반려견 베일리는 행복한 생을 마감한다.하지만 눈을 떠보니 ...       미국   \n",
       "4        9.52  누구보다 위트 있고 호기심 많은 매력 부자 어기제이콥 트렘블레이.하지만 남들과 다른...       미국   \n",
       "\n",
       "        genre  \n",
       "0         드라마  \n",
       "1         드라마  \n",
       "2    애니메이션,모험  \n",
       "3  모험,코미디,드라마  \n",
       "4         드라마  "
      ]
     },
     "execution_count": 15,
     "metadata": {},
     "output_type": "execute_result"
    }
   ],
   "source": [
    "df1.head()"
   ]
  },
  {
   "cell_type": "code",
   "execution_count": 41,
   "id": "c1cc7f00",
   "metadata": {},
   "outputs": [],
   "source": [
    "df2.to_csv('movie_sample.csv', index = False, encoding = 'euc-kr')"
   ]
  },
  {
   "cell_type": "code",
   "execution_count": 18,
   "id": "4594985d",
   "metadata": {},
   "outputs": [
    {
     "ename": "NameError",
     "evalue": "name 'soup' is not defined",
     "output_type": "error",
     "traceback": [
      "\u001b[1;31m---------------------------------------------------------------------------\u001b[0m",
      "\u001b[1;31mNameError\u001b[0m                                 Traceback (most recent call last)",
      "\u001b[1;32m<ipython-input-18-ae71936a251f>\u001b[0m in \u001b[0;36m<module>\u001b[1;34m\u001b[0m\n\u001b[1;32m----> 1\u001b[1;33m \u001b[0msoup\u001b[0m\u001b[1;33m.\u001b[0m\u001b[0mfind\u001b[0m\u001b[1;33m(\u001b[0m\u001b[1;34m'img'\u001b[0m\u001b[1;33m,\u001b[0m \u001b[1;33m{\u001b[0m\u001b[1;34m'class'\u001b[0m\u001b[1;33m:\u001b[0m \u001b[1;34m'poster'\u001b[0m\u001b[1;33m}\u001b[0m\u001b[1;33m)\u001b[0m\u001b[1;33m\u001b[0m\u001b[1;33m\u001b[0m\u001b[0m\n\u001b[0m",
      "\u001b[1;31mNameError\u001b[0m: name 'soup' is not defined"
     ]
    }
   ],
   "source": [
    "soup.find('img', {'class': 'poster'})"
   ]
  },
  {
   "cell_type": "code",
   "execution_count": 38,
   "id": "15ad9dc4",
   "metadata": {},
   "outputs": [],
   "source": [
    "req2 = requests.get(IMG_URL + str(174830))"
   ]
  },
  {
   "cell_type": "code",
   "execution_count": 39,
   "id": "1d12dca6",
   "metadata": {},
   "outputs": [],
   "source": [
    "html2 = req2.text\n",
    "soup2 = BeautifulSoup(html2, 'html.parser')"
   ]
  },
  {
   "cell_type": "code",
   "execution_count": 40,
   "id": "01782557",
   "metadata": {},
   "outputs": [],
   "source": [
    "img_src_ = soup2.find('img', {'id': 'targetImage'})"
   ]
  },
  {
   "cell_type": "code",
   "execution_count": 41,
   "id": "028a12cf",
   "metadata": {},
   "outputs": [
    {
     "name": "stdout",
     "output_type": "stream",
     "text": [
      "<img alt=\"가버나움\" id=\"targetImage\" src=\"https://movie-phinf.pstatic.net/20190109_149/1546998123676c6LjJ_JPEG/movie_image.jpg\"/>\n"
     ]
    }
   ],
   "source": [
    "print(img_src_)"
   ]
  },
  {
   "cell_type": "code",
   "execution_count": 42,
   "id": "cb278b5d",
   "metadata": {},
   "outputs": [
    {
     "data": {
      "text/plain": [
       "'https://movie-phinf.pstatic.net/20190109_149/1546998123676c6LjJ_JPEG/movie_image.jpg'"
      ]
     },
     "execution_count": 42,
     "metadata": {},
     "output_type": "execute_result"
    }
   ],
   "source": [
    "img_src_['src']"
   ]
  },
  {
   "cell_type": "code",
   "execution_count": null,
   "id": "595bdea9",
   "metadata": {},
   "outputs": [],
   "source": []
  }
 ],
 "metadata": {
  "kernelspec": {
   "display_name": "Python 3",
   "language": "python",
   "name": "python3"
  },
  "language_info": {
   "codemirror_mode": {
    "name": "ipython",
    "version": 3
   },
   "file_extension": ".py",
   "mimetype": "text/x-python",
   "name": "python",
   "nbconvert_exporter": "python",
   "pygments_lexer": "ipython3",
   "version": "3.8.10"
  }
 },
 "nbformat": 4,
 "nbformat_minor": 5
}
